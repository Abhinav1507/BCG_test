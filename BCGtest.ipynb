{
  "nbformat": 4,
  "nbformat_minor": 0,
  "metadata": {
    "colab": {
      "provenance": []
    },
    "kernelspec": {
      "name": "python3",
      "display_name": "Python 3"
    },
    "language_info": {
      "name": "python"
    }
  },
  "cells": [
    {
      "cell_type": "code",
      "execution_count": 2,
      "metadata": {
        "colab": {
          "base_uri": "https://localhost:8080/"
        },
        "id": "MIZbQuSQGqm3",
        "outputId": "88d6bd48-f82b-4cb7-d7e5-63516cc43ddd"
      },
      "outputs": [
        {
          "output_type": "stream",
          "name": "stdout",
          "text": [
            "Looking in indexes: https://pypi.org/simple, https://us-python.pkg.dev/colab-wheels/public/simple/\n",
            "Collecting pyspark\n",
            "  Downloading pyspark-3.3.2.tar.gz (281.4 MB)\n",
            "\u001b[2K     \u001b[90m━━━━━━━━━━━━━━━━━━━━━━━━━━━━━━━━━━━━━━━\u001b[0m \u001b[32m281.4/281.4 MB\u001b[0m \u001b[31m4.1 MB/s\u001b[0m eta \u001b[36m0:00:00\u001b[0m\n",
            "\u001b[?25h  Preparing metadata (setup.py) ... \u001b[?25l\u001b[?25hdone\n",
            "Collecting py4j==0.10.9.5\n",
            "  Downloading py4j-0.10.9.5-py2.py3-none-any.whl (199 kB)\n",
            "\u001b[2K     \u001b[90m━━━━━━━━━━━━━━━━━━━━━━━━━━━━━━━━━━━━━━\u001b[0m \u001b[32m199.7/199.7 KB\u001b[0m \u001b[31m19.5 MB/s\u001b[0m eta \u001b[36m0:00:00\u001b[0m\n",
            "\u001b[?25hBuilding wheels for collected packages: pyspark\n",
            "  Building wheel for pyspark (setup.py) ... \u001b[?25l\u001b[?25hdone\n",
            "  Created wheel for pyspark: filename=pyspark-3.3.2-py2.py3-none-any.whl size=281824025 sha256=eeeed237b6b44f18f34e550192d0ae5a1448030eea57d18639a2bf756b1c39fa\n",
            "  Stored in directory: /root/.cache/pip/wheels/b1/59/a0/a1a0624b5e865fd389919c1a10f53aec9b12195d6747710baf\n",
            "Successfully built pyspark\n",
            "Installing collected packages: py4j, pyspark\n",
            "Successfully installed py4j-0.10.9.5 pyspark-3.3.2\n"
          ]
        }
      ],
      "source": [
        "pip install pyspark"
      ]
    },
    {
      "cell_type": "code",
      "source": [
        "from pyspark.sql import SparkSession, Window\n",
        "from pyspark.sql.functions import *"
      ],
      "metadata": {
        "id": "tAFkoXNrG4ei"
      },
      "execution_count": 3,
      "outputs": []
    },
    {
      "cell_type": "code",
      "source": [
        "spark = SparkSession \\\n",
        "        .builder \\\n",
        "        .appName(\"USVehicleAccidentAnalysis\") \\\n",
        "        .getOrCreate()"
      ],
      "metadata": {
        "id": "kdjJKMfTJG5u"
      },
      "execution_count": 4,
      "outputs": []
    },
    {
      "cell_type": "code",
      "source": [
        "df_charges = spark.read.csv(\"Data/Charges_use.csv\", header=True)\n",
        "df_damages = spark.read.csv(\"Data/Damages_use.csv\", header=True)\n",
        "df_endorse = spark.read.csv(\"Data/Endorse_use.csv\", header=True)\n",
        "df_pp = spark.read.csv(\"Data/Primary_Person_use.csv\", header=True)\n",
        "df_Units = spark.read.csv(\"Data/Units_use.csv\", header=True)\n",
        "df_restrict = spark.read.csv(\"Data/Restrict_use.csv\", header=True)"
      ],
      "metadata": {
        "id": "6-53XvF_JQ9A"
      },
      "execution_count": 7,
      "outputs": []
    },
    {
      "cell_type": "code",
      "source": [
        "df_Units.printSchema()"
      ],
      "metadata": {
        "colab": {
          "base_uri": "https://localhost:8080/"
        },
        "id": "t7F_Rj38Ls0d",
        "outputId": "98615d6a-eeff-4c2e-bf20-293b3d0a4a9e"
      },
      "execution_count": 6,
      "outputs": [
        {
          "output_type": "stream",
          "name": "stdout",
          "text": [
            "root\n",
            " |-- CRASH_ID: string (nullable = true)\n",
            " |-- UNIT_NBR: string (nullable = true)\n",
            " |-- UNIT_DESC_ID: string (nullable = true)\n",
            " |-- VEH_PARKED_FL: string (nullable = true)\n",
            " |-- VEH_HNR_FL: string (nullable = true)\n",
            " |-- VEH_LIC_STATE_ID: string (nullable = true)\n",
            " |-- VIN: string (nullable = true)\n",
            " |-- VEH_MOD_YEAR: string (nullable = true)\n",
            " |-- VEH_COLOR_ID: string (nullable = true)\n",
            " |-- VEH_MAKE_ID: string (nullable = true)\n",
            " |-- VEH_MOD_ID: string (nullable = true)\n",
            " |-- VEH_BODY_STYL_ID: string (nullable = true)\n",
            " |-- EMER_RESPNDR_FL: string (nullable = true)\n",
            " |-- OWNR_ZIP: string (nullable = true)\n",
            " |-- FIN_RESP_PROOF_ID: string (nullable = true)\n",
            " |-- FIN_RESP_TYPE_ID: string (nullable = true)\n",
            " |-- VEH_DMAG_AREA_1_ID: string (nullable = true)\n",
            " |-- VEH_DMAG_SCL_1_ID: string (nullable = true)\n",
            " |-- FORCE_DIR_1_ID: string (nullable = true)\n",
            " |-- VEH_DMAG_AREA_2_ID: string (nullable = true)\n",
            " |-- VEH_DMAG_SCL_2_ID: string (nullable = true)\n",
            " |-- FORCE_DIR_2_ID: string (nullable = true)\n",
            " |-- VEH_INVENTORIED_FL: string (nullable = true)\n",
            " |-- VEH_TRANSP_NAME: string (nullable = true)\n",
            " |-- VEH_TRANSP_DEST: string (nullable = true)\n",
            " |-- CONTRIB_FACTR_1_ID: string (nullable = true)\n",
            " |-- CONTRIB_FACTR_2_ID: string (nullable = true)\n",
            " |-- CONTRIB_FACTR_P1_ID: string (nullable = true)\n",
            " |-- VEH_TRVL_DIR_ID: string (nullable = true)\n",
            " |-- FIRST_HARM_EVT_INV_ID: string (nullable = true)\n",
            " |-- INCAP_INJRY_CNT: string (nullable = true)\n",
            " |-- NONINCAP_INJRY_CNT: string (nullable = true)\n",
            " |-- POSS_INJRY_CNT: string (nullable = true)\n",
            " |-- NON_INJRY_CNT: string (nullable = true)\n",
            " |-- UNKN_INJRY_CNT: string (nullable = true)\n",
            " |-- TOT_INJRY_CNT: string (nullable = true)\n",
            " |-- DEATH_CNT: string (nullable = true)\n",
            "\n"
          ]
        }
      ]
    },
    {
      "cell_type": "code",
      "source": [
        "#1\n",
        "df_pp.select('DEATH_CNT').distinct().show()\n",
        "df_pp.select('CRASH_ID','UNIT_NBR','PRSN_NBR','PRSN_TYPE_ID','PRSN_GNDR_ID','DEATH_CNT').filter(df_pp.PRSN_GNDR_ID =='MALE').filter(df_pp.DEATH_CNT>0).count()"
      ],
      "metadata": {
        "colab": {
          "base_uri": "https://localhost:8080/"
        },
        "id": "mqPAZL8bL9GK",
        "outputId": "cdd85941-6e36-431b-9629-f2835ad1ee61"
      },
      "execution_count": 8,
      "outputs": [
        {
          "output_type": "stream",
          "name": "stdout",
          "text": [
            "+---------+\n",
            "|DEATH_CNT|\n",
            "+---------+\n",
            "|        0|\n",
            "|        1|\n",
            "+---------+\n",
            "\n"
          ]
        },
        {
          "output_type": "execute_result",
          "data": {
            "text/plain": [
              "182"
            ]
          },
          "metadata": {},
          "execution_count": 8
        }
      ]
    },
    {
      "cell_type": "code",
      "source": [
        "#2\n",
        "df_Units.first()\n",
        "df_Units.select('VEH_BODY_STYL_ID').distinct().show()\n",
        "df_Units.filter(df_Units.VEH_BODY_STYL_ID.contains('MOTORCYCLE')).count()\n",
        "#df_Units.filter(col('VEH_BODY_STYL_ID').contains('MOTORCYCLE')).count()"
      ],
      "metadata": {
        "colab": {
          "base_uri": "https://localhost:8080/"
        },
        "id": "P2xfXgSVm7HQ",
        "outputId": "8573521f-ec9f-4089-932d-cd913035adea"
      },
      "execution_count": 9,
      "outputs": [
        {
          "output_type": "stream",
          "name": "stdout",
          "text": [
            "+--------------------+\n",
            "|    VEH_BODY_STYL_ID|\n",
            "+--------------------+\n",
            "|                 BUS|\n",
            "|                  NA|\n",
            "|                 VAN|\n",
            "|              PICKUP|\n",
            "|SPORT UTILITY VEH...|\n",
            "|PASSENGER CAR, 4-...|\n",
            "|          FIRE TRUCK|\n",
            "|               TRUCK|\n",
            "|             UNKNOWN|\n",
            "|           AMBULANCE|\n",
            "|    POLICE CAR/TRUCK|\n",
            "|          MOTORCYCLE|\n",
            "|   YELLOW SCHOOL BUS|\n",
            "|   POLICE MOTORCYCLE|\n",
            "|PASSENGER CAR, 2-...|\n",
            "|       TRUCK TRACTOR|\n",
            "|      FARM EQUIPMENT|\n",
            "|NEV-NEIGHBORHOOD ...|\n",
            "|OTHER  (EXPLAIN I...|\n",
            "|        NOT REPORTED|\n",
            "+--------------------+\n",
            "\n"
          ]
        },
        {
          "output_type": "execute_result",
          "data": {
            "text/plain": [
              "784"
            ]
          },
          "metadata": {},
          "execution_count": 9
        }
      ]
    },
    {
      "cell_type": "code",
      "source": [
        "w = Window.partitionBy(\"VEH_BODY_STYL_ID\").orderBy(col(\"count\").desc())\n",
        "df = df_Units.join(df_pp, on=['CRASH_ID'], how='inner'). \\\n",
        "            filter(~ df_Units.VEH_BODY_STYL_ID.isin([\"NA\", \"UNKNOWN\", \"NOT REPORTED\",\"OTHER  (EXPLAIN IN NARRATIVE)\"])). \\\n",
        "            filter(~df_pp.PRSN_ETHNICITY_ID.isin([\"NA\", \"UNKNOWN\"])). \\\n",
        "            groupby(\"VEH_BODY_STYL_ID\", \"PRSN_ETHNICITY_ID\").count(). \\\n",
        "            withColumn(\"row\", row_number().over(w)).filter(col(\"row\") == 1).drop(\"row\", \"count\")\n",
        "df.count()"
      ],
      "metadata": {
        "colab": {
          "base_uri": "https://localhost:8080/"
        },
        "id": "NfyoIGI2KUen",
        "outputId": "83b99ad6-7cc4-43db-80d1-21ed985c155c"
      },
      "execution_count": 10,
      "outputs": [
        {
          "output_type": "execute_result",
          "data": {
            "text/plain": [
              "16"
            ]
          },
          "metadata": {},
          "execution_count": 10
        }
      ]
    },
    {
      "cell_type": "code",
      "source": [
        "top_25_state_list = [row[0] for row in df_Units.filter(col(\"VEH_LIC_STATE_ID\").cast(\"int\").isNull()).\n",
        "            groupby(\"VEH_LIC_STATE_ID\").count().orderBy(col(\"count\").desc()).limit(25).collect()]\n",
        "                \n",
        "top_10_used_vehicle_colors = [row[0] for row in df_Units.filter(df_Units.VEH_COLOR_ID != \"NA\").\n",
        "            groupby(\"VEH_COLOR_ID\").count().orderBy(col(\"count\").desc()).limit(10).collect()]\n",
        "\n",
        "\n",
        "\n",
        "df = df_charges.join(df_pp, on=['CRASH_ID'], how='inner'). \\\n",
        "            join(df_Units, on=['CRASH_ID'], how='inner'). \\\n",
        "            filter(df_charges.CHARGE.contains(\"SPEED\")). \\\n",
        "            filter(df_pp.DRVR_LIC_TYPE_ID.isin([\"DRIVER LICENSE\", \"COMMERCIAL DRIVER LIC.\"])). \\\n",
        "            filter(df_Units.VEH_COLOR_ID.isin(top_10_used_vehicle_colors)). \\\n",
        "            filter(df_Units.VEH_LIC_STATE_ID.isin(top_25_state_list)). \\\n",
        "            groupby(\"VEH_MAKE_ID\").count(). \\\n",
        "            orderBy(col(\"count\").desc()).limit(5)\n",
        "df.show()"
      ],
      "metadata": {
        "id": "PopUKg7tQwpW",
        "colab": {
          "base_uri": "https://localhost:8080/"
        },
        "outputId": "df2ed612-6b44-4238-998d-2a9a06206888"
      },
      "execution_count": 12,
      "outputs": [
        {
          "output_type": "stream",
          "name": "stdout",
          "text": [
            "+-----------+-----+\n",
            "|VEH_MAKE_ID|count|\n",
            "+-----------+-----+\n",
            "|       FORD|19205|\n",
            "|  CHEVROLET|16860|\n",
            "|     TOYOTA|11822|\n",
            "|      DODGE| 7935|\n",
            "|     NISSAN| 7332|\n",
            "+-----------+-----+\n",
            "\n"
          ]
        }
      ]
    },
    {
      "cell_type": "code",
      "source": [],
      "metadata": {
        "id": "eh3tihh9i9V2"
      },
      "execution_count": null,
      "outputs": []
    }
  ]
}